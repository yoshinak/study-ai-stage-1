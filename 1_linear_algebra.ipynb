{
  "nbformat": 4,
  "nbformat_minor": 0,
  "metadata": {
    "colab": {
      "name": "1-linear-algebra.ipynb",
      "provenance": [],
      "collapsed_sections": [],
      "authorship_tag": "ABX9TyPb6gCGO1zgwZ2Rnyb1i3I4"
    },
    "kernelspec": {
      "name": "python3",
      "display_name": "Python 3"
    },
    "language_info": {
      "name": "python"
    }
  },
  "cells": [
    {
      "cell_type": "markdown",
      "metadata": {
        "id": "dY1FzOkF5RuD"
      },
      "source": [
        "# 第1章: 線形代数\n",
        "\n",
        "本書は、応用数学レポートの、「第1章: 線形代数」についてのものです。\n"
      ]
    },
    {
      "cell_type": "markdown",
      "metadata": {
        "id": "LZgR4Emq7lb_"
      },
      "source": [
        "( page. 20 までの内容で、基本的な部分は割愛させていただきました )\n",
        "\n",
        "## 逆行列が存在しない条件\n",
        "\n",
        "逆行列が存在しない条件は、以下の通り。\n",
        "\n",
        "$\n",
        "\\begin{pmatrix}\n",
        "a & b \\\\\n",
        "c & d\n",
        "\\end{pmatrix}\n",
        "$\n",
        "という行列において、 $ a \\colon b = c \\colon d $ のとき、逆行列を持たない。\n"
      ]
    },
    {
      "cell_type": "markdown",
      "metadata": {
        "id": "sqgn311e9so_"
      },
      "source": [
        "## 行列式の特徴\n",
        "\n",
        "逆行列の存在しない条件は、2つのベクトルに囲まれる平行四辺形の面積で、その面積を行列式と言う。\n",
        "\n",
        "行列式の特徴から、行を入れ替えると符号が変わることを確認できる。\n",
        "以下は $ t $ と $ s $ の行を入れ替えたもの。\n",
        "\n",
        "$$\n",
        "\\begin{vmatrix}\n",
        "\\vec{v}_1 \\\\\n",
        "\\vdots \\\\\n",
        "\\vec{v}_s \\\\\n",
        "\\vdots \\\\\n",
        "\\vec{v}_t \\\\\n",
        "\\vdots \\\\\n",
        "\\vec{v}_n \\\\\n",
        "\\end{vmatrix}\n",
        "=\n",
        "-\n",
        "\\begin{vmatrix}\n",
        "\\vec{v}_1 \\\\\n",
        "\\vdots \\\\\n",
        "\\vec{v}_t \\\\\n",
        "\\vdots \\\\\n",
        "\\vec{v}_s \\\\\n",
        "\\vdots \\\\\n",
        "\\vec{v}_n \\\\\n",
        "\\end{vmatrix}\n",
        "$$\n"
      ]
    },
    {
      "cell_type": "markdown",
      "metadata": {
        "id": "0I-zxNgmA6MM"
      },
      "source": [
        "$\n",
        "\\begin{vmatrix}\n",
        "\\vec{v}_1 \\\\\n",
        "\\vdots \\\\\n",
        "\\vec{v}_i + \\vec{v}_w\\\\\n",
        "\\vdots \\\\\n",
        "\\vec{v}_n \\\\\n",
        "\\end{vmatrix}\n",
        "=\n",
        "\\begin{vmatrix}\n",
        "\\vec{v}_1 \\\\\n",
        "\\vdots \\\\\n",
        "\\vec{v}_i \\\\\n",
        "\\vdots \\\\\n",
        "\\vec{v}_n \\\\\n",
        "\\end{vmatrix}\n",
        "+\n",
        "\\begin{vmatrix}\n",
        "\\vec{v}_1 \\\\\n",
        "\\vdots \\\\\n",
        "\\vec{v}_w \\\\\n",
        "\\vdots \\\\\n",
        "\\vec{v}_n \\\\\n",
        "\\end{vmatrix}\n",
        "$\n",
        "より、\n"
      ]
    },
    {
      "cell_type": "markdown",
      "metadata": {
        "id": "kJLRgTZd_zHC"
      },
      "source": [
        "$$\n",
        "\\begin{vmatrix}\n",
        "\\vec{v}_1 \\\\\n",
        "\\vdots \\\\\n",
        "\\vec{v}_s \\\\\n",
        "\\vdots \\\\\n",
        "\\vec{v}_t \\\\\n",
        "\\vdots \\\\\n",
        "\\vec{v}_n \\\\\n",
        "\\end{vmatrix}\n",
        "+\n",
        "\\begin{vmatrix}\n",
        "\\vec{v}_1 \\\\\n",
        "\\vdots \\\\\n",
        "\\vec{v}_t \\\\\n",
        "\\vdots \\\\\n",
        "\\vec{v}_s \\\\\n",
        "\\vdots \\\\\n",
        "\\vec{v}_n \\\\\n",
        "\\end{vmatrix}\n",
        "=\n",
        "\\begin{vmatrix}\n",
        "\\vec{v}_1 \\\\\n",
        "\\vdots \\\\\n",
        "\\vec{v}_s + \\vec{v}_t \\\\\n",
        "\\vdots \\\\\n",
        "\\vec{v}_t + \\vec{v}_s\\\\\n",
        "\\vdots \\\\\n",
        "\\vec{v}_n \\\\\n",
        "\\end{vmatrix}\n",
        "= 0\n",
        "$$\n"
      ]
    },
    {
      "cell_type": "markdown",
      "metadata": {
        "id": "ljhQpAGAACHT"
      },
      "source": [
        "$$\n",
        "\\begin{vmatrix}\n",
        "\\vec{v}_1 \\\\\n",
        "\\vdots \\\\\n",
        "\\vec{v}_s + \\vec{v}_t \\\\\n",
        "\\vdots \\\\\n",
        "\\vec{v}_s + \\vec{v}_t\\\\\n",
        "\\vdots \\\\\n",
        "\\vec{v}_n \\\\\n",
        "\\end{vmatrix}\n",
        "= 0 \\\\\n",
        "\\because\n",
        "\\begin{vmatrix}\n",
        "\\vec{v}_1 \\\\\n",
        "\\vdots \\\\\n",
        "\\vec{v}_w \\\\\n",
        "\\vdots \\\\\n",
        "\\vec{v}_w \\\\\n",
        "\\vdots \\\\\n",
        "\\vec{v}_n \\\\\n",
        "\\end{vmatrix}\n",
        "= 0\n",
        "$$\n"
      ]
    },
    {
      "cell_type": "markdown",
      "metadata": {
        "id": "5aNdlJeFAc4b"
      },
      "source": [
        "$$\n",
        "\\begin{vmatrix}\n",
        "\\vec{v}_1 \\\\\n",
        "\\vdots \\\\\n",
        "\\vec{v}_s \\\\\n",
        "\\vdots \\\\\n",
        "\\vec{v}_t \\\\\n",
        "\\vdots \\\\\n",
        "\\vec{v}_n \\\\\n",
        "\\end{vmatrix}\n",
        "+\n",
        "\\begin{vmatrix}\n",
        "\\vec{v}_1 \\\\\n",
        "\\vdots \\\\\n",
        "\\vec{v}_t \\\\\n",
        "\\vdots \\\\\n",
        "\\vec{v}_s \\\\\n",
        "\\vdots \\\\\n",
        "\\vec{v}_n \\\\\n",
        "\\end{vmatrix}\n",
        "= 0 \\\\\n",
        "\\begin{vmatrix}\n",
        "\\vec{v}_1 \\\\\n",
        "\\vdots \\\\\n",
        "\\vec{v}_s \\\\\n",
        "\\vdots \\\\\n",
        "\\vec{v}_t \\\\\n",
        "\\vdots \\\\\n",
        "\\vec{v}_n \\\\\n",
        "\\end{vmatrix}\n",
        "=\n",
        "-\n",
        "\\begin{vmatrix}\n",
        "\\vec{v}_1 \\\\\n",
        "\\vdots \\\\\n",
        "\\vec{v}_t \\\\\n",
        "\\vdots \\\\\n",
        "\\vec{v}_s \\\\\n",
        "\\vdots \\\\\n",
        "\\vec{v}_n \\\\\n",
        "\\end{vmatrix}\n",
        "$$\n"
      ]
    },
    {
      "cell_type": "markdown",
      "metadata": {
        "id": "dk9NiNntBOzG"
      },
      "source": [
        "## 固有値と固有ベクトル\n",
        "\n",
        "- TODO: E of M から\n",
        "\n",
        "$$\n",
        "A \\vec{x} = \\lambda \\vec{x}\n",
        "$$\n",
        "\n",
        "ある行列に対して、 $ \\vec{x} $ を固有ベクトル、 $ \\lambda $ を固有値と言う。\n"
      ]
    },
    {
      "cell_type": "markdown",
      "metadata": {
        "id": "ehv4VBAvBTPm"
      },
      "source": [
        "## 固有値分解\n",
        "\n",
        "正方行列 A の固有値が、 $ \\lambda_1, \\lambda_1, \\cdots $  、\n",
        "固有ベクトルが、 $ \\vec{v}_1, \\vec{v}_1, \\cdots $ とする。\n",
        "\n",
        "固有値の対角行列を以下、\n",
        "\n",
        "$$\n",
        "\\bigwedge\n",
        "=\n",
        "\\begin{pmatrix}\n",
        "\\lambda_1 & & \\\\\n",
        "& \\lambda_2 & \\\\\n",
        "& & \\ddots\n",
        "\\end{pmatrix}\n",
        "$$\n",
        "\n",
        "固有ベクトルを並べ値行列を以下とする。\n",
        "\n",
        "$$\n",
        "V\n",
        "=\n",
        "\\begin{pmatrix}\n",
        "\\vec{v}_1 & \\vec{v}_1 & \\cdots\n",
        "\\end{pmatrix}\n",
        "$$\n",
        "\n",
        "正方行列 $ $ を以下の様に行列の積に変換すること、固有値分解と言う。\n"
      ]
    },
    {
      "cell_type": "markdown",
      "metadata": {
        "id": "nrd1eLKWUeCu"
      },
      "source": [
        "$$\n",
        "A = V \\bigwedge V^{-1}\n",
        "$$\n"
      ]
    },
    {
      "cell_type": "markdown",
      "metadata": {
        "id": "ITKr53Gel6c6"
      },
      "source": [
        "固有値は、\n",
        "\n",
        "$$\n",
        "A \\vec{x} = \\lambda \\vec{x} \\\\\n",
        "(A - \\lambda I) \\vec{x} = \\vec{0}\n",
        "$$\n",
        "\n",
        "において、 $ \\vec{x} \\neq 0 $ となる解を、以下から方程式で求める。\n",
        "\n",
        "$$\n",
        "\\begin{vmatrix}\n",
        "A - \\lambda I\n",
        "\\end{vmatrix}\n",
        "= 0\n",
        "$$\n"
      ]
    },
    {
      "cell_type": "markdown",
      "metadata": {
        "id": "SSQTCbhvmwG2"
      },
      "source": [
        "固有ベクトルは、\n",
        "\n",
        "求めた固有値 $ \\lambda $ の数の分、 $ \\lambda $ の値を以下に適用して、 $ \\vec{x} $ 方程式を求める。\n",
        "\n",
        "$$\n",
        "A \\vec{x} = \\lambda \\vec{x} \\\\\n",
        "$$\n"
      ]
    },
    {
      "cell_type": "markdown",
      "metadata": {
        "id": "XCsqWA-FBXsW"
      },
      "source": [
        "## 特異値分解\n",
        "\n",
        "正方行列以外の行列に対して、固有値分解する。以下の様な特殊な単位ベクトル $ M $ によって特異値分解を行う。\n",
        "\n",
        "$$\n",
        "M = U S V^{-1}\n",
        "$$\n"
      ]
    },
    {
      "cell_type": "markdown",
      "metadata": {
        "id": "GZPYooLTXTKi"
      },
      "source": [
        "$ M M^T $ を固有値分解すれば、左特異ベクトルと特異値の2乗が求められる。\n",
        "\n",
        "$$\n",
        "MM^T = U S S^T U^{-1}\n",
        "$$\n",
        "\n"
      ]
    }
  ]
}