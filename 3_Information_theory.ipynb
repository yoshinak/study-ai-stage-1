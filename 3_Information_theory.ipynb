{
  "nbformat": 4,
  "nbformat_minor": 0,
  "metadata": {
    "colab": {
      "name": "3-Information-theory.ipynb",
      "provenance": [],
      "collapsed_sections": [],
      "toc_visible": true,
      "authorship_tag": "ABX9TyMg8sWRH2v+t0OSc6i810lK"
    },
    "kernelspec": {
      "name": "python3",
      "display_name": "Python 3"
    },
    "language_info": {
      "name": "python"
    }
  },
  "cells": [
    {
      "cell_type": "markdown",
      "metadata": {
        "id": "ISWzsiYHQ17R"
      },
      "source": [
        "# 第3章: 情報理論\n",
        "\n",
        "本書は、応用数学レポートの、「第3章: 情報理論」についてのものです。\n"
      ]
    },
    {
      "cell_type": "markdown",
      "metadata": {
        "id": "sjV1TMBOSCL_"
      },
      "source": [
        "## 自己情報量\n",
        "\n",
        "以下の式であらわされるものが、自己情報量。\n",
        "\n",
        "$$\n",
        "I(x) = -log(P(x)) = log(W(x))\n",
        "$$\n",
        "\n",
        "- 対数の底が 2 のとき、単位は bit.\n",
        "- 対数の底が e のとき、単位は nat.\n",
        "\n"
      ]
    },
    {
      "cell_type": "markdown",
      "metadata": {
        "id": "n5QnRdpWTi4A"
      },
      "source": [
        "- NOTE: 起こりにくい事象（＝生起確率 (が低い事象）の情報量ほど、値が大きい。\n"
      ]
    },
    {
      "cell_type": "code",
      "metadata": {
        "id": "CdBlNaRkWvHH"
      },
      "source": [
        "import numpy as np\n",
        "import matplotlib.pyplot as plt"
      ],
      "execution_count": 4,
      "outputs": []
    },
    {
      "cell_type": "code",
      "metadata": {
        "colab": {
          "base_uri": "https://localhost:8080/",
          "height": 292
        },
        "id": "w1iI_IXMLc1F",
        "outputId": "00029f2e-f4e9-44ef-d408-d88799b47248"
      },
      "source": [
        "def plot_si(p_x, y):\n",
        "  plt.plot(p_x,y)\n",
        "\n",
        "  plt.grid()\n",
        "\n",
        "  plt.xlim(0,1)\n",
        "\n",
        "  plt.title('self-information',fontsize=10)\n",
        "\n",
        "  plt.xlabel('p_x',fontsize=8)\n",
        "  plt.ylabel('I',fontsize=8)\n",
        "\n",
        "  plt.show()\n",
        "\n",
        "p_x = np.arange(0.001,1,0000.1)\n",
        "\n",
        "def l_nat(w):\n",
        "  return -np.log(w)\n",
        "\n",
        "y = l_nat(p_x)\n",
        "\n",
        "plot_si(p_x, y)"
      ],
      "execution_count": 5,
      "outputs": [
        {
          "output_type": "display_data",
          "data": {
            "image/png": "[encoded data removed]",
            "text/plain": [
              "<Figure size 432x288 with 1 Axes>"
            ]
          },
          "metadata": {
            "needs_background": "light"
          }
        }
      ]
    },
    {
      "cell_type": "markdown",
      "metadata": {
        "id": "Jj1JrmLCSDY3"
      },
      "source": [
        "## シャノンエントロピー\n",
        "\n",
        "シャノンエントロピーは、自己情報量の期待値。平均情報量とも言う。\n",
        "\n",
        "$$\n",
        "H(x) = E(I(x)) \\\\\n",
        "= -E(log(P(x))) \\\\\n",
        "= \\sum (P(x)log(P(x)))\n",
        "$$\n"
      ]
    },
    {
      "cell_type": "markdown",
      "metadata": {
        "id": "yJOBKrVRXIN7"
      },
      "source": [
        "- NOTE: ライブラリでの計算\n",
        "\n",
        "- [scipy.stats.entropy — SciPy v1.7.1 Manual](https://docs.scipy.org/doc/scipy/reference/generated/scipy.stats.entropy.html)\n"
      ]
    },
    {
      "cell_type": "code",
      "metadata": {
        "colab": {
          "base_uri": "https://localhost:8080/"
        },
        "id": "ujV8wUBGXScZ",
        "outputId": "4cb69430-6b64-4cb3-efc1-92bdbebd4033"
      },
      "source": [
        "from scipy.stats import entropy\n",
        "\n",
        "# エントロピーの値が大きい(コイントスの裏表が同じ確率。 講義資料 page.54 のグラフ x 軸中央)\n",
        "entropy([1/2, 1/2], base=2)\n"
      ],
      "execution_count": 6,
      "outputs": [
        {
          "output_type": "execute_result",
          "data": {
            "text/plain": [
              "1.0"
            ]
          },
          "metadata": {},
          "execution_count": 6
        }
      ]
    },
    {
      "cell_type": "code",
      "metadata": {
        "colab": {
          "base_uri": "https://localhost:8080/"
        },
        "id": "3aoK3MNSXXQJ",
        "outputId": "ee1f9280-e97e-4798-9a7a-fb8ec497a6c9"
      },
      "source": [
        "entropy([9/10, 1/10], base=2)\n"
      ],
      "execution_count": 7,
      "outputs": [
        {
          "output_type": "execute_result",
          "data": {
            "text/plain": [
              "0.46899559358928117"
            ]
          },
          "metadata": {},
          "execution_count": 7
        }
      ]
    },
    {
      "cell_type": "markdown",
      "metadata": {
        "id": "d12PAwT-SHJP"
      },
      "source": [
        "## カルバック・ライブラー ダイバージェンス\n",
        "\n",
        "同じ事象、確率変数における異なる確率分布 P, Q の違いを表す。<br>\n",
        "( 距離ではない。違い。 )\n",
        "\n",
        "- NOTE: [Kullback-Leibler Divergenceについてまとめる - 閃き- blog](https://yul.hatenablog.com/entry/2019/01/07/152738)<br>\n",
        "> 1.2 基本的な性質<br>\n",
        "... <br>\n",
        "例として、2つの正規分布間でKL-divergenceを計算*2すると、以下のような値になります。分布のズレが大きくなるほど、値が増加していることがわかります。\n",
        "\n",
        "上記参考部分のグラフの様に、似たような正規分布でも分布が違うと、カルバック・ライブラー ダイバージェンスの値で違いを表すことができる。\n",
        "\n",
        "$$\n",
        "D_{KL} ( P \\Vert Q) = \\sum_x P(x) \\log \\frac{P(x)}{Q(x)}\n",
        "$$\n"
      ]
    },
    {
      "cell_type": "markdown",
      "metadata": {
        "id": "IgTg36V5SKi_"
      },
      "source": [
        "## 交差エントロピー\n",
        "\n",
        "2 つの確率分布 P, Q があるとき、 Q についての自己情報量を P の分布で平均したもの。\n",
        "\n",
        "$$\n",
        "H(P, Q) = - \\sum_x P(x) \\log Q(x)\n",
        "$$\n",
        "\n",
        "- NOTE: 損失関数の、交差エントロピー誤差として使用する。<br>\n",
        "P と Q が近似しないと数値が大きくなる。\n"
      ]
    }
  ]
}