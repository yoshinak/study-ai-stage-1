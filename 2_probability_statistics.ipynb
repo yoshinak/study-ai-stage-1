{
  "nbformat": 4,
  "nbformat_minor": 0,
  "metadata": {
    "colab": {
      "name": "2-probability-statistics.ipynb",
      "provenance": [],
      "collapsed_sections": [],
      "toc_visible": true,
      "authorship_tag": "ABX9TyMga7PX9S3sj/xMQMYB+Dkm"
    },
    "kernelspec": {
      "name": "python3",
      "display_name": "Python 3"
    },
    "language_info": {
      "name": "python"
    }
  },
  "cells": [
    {
      "cell_type": "markdown",
      "metadata": {
        "id": "YEyQQJebyam3"
      },
      "source": [
        "# 第2章: 確率統計\n",
        "\n",
        "本書は、応用数学レポートの、「第2章: 確率統計」についてのものです。\n"
      ]
    },
    {
      "cell_type": "markdown",
      "metadata": {
        "id": "TTBqPYH11XoH"
      },
      "source": [
        "## 条件付き確率\n"
      ]
    },
    {
      "cell_type": "markdown",
      "metadata": {
        "id": "1d5Y6tdc1642"
      },
      "source": [
        "ある事象 $ X = x $ が与えられた元で $ Y = y $ となる確率は、以下の通り。\n",
        "\n",
        "$$\n",
        "P ( Y = y \\mid X = x)\n",
        "=\n",
        "\\frac{P(Y = y, X = x)}{P (X = x)}\n",
        "$$\n",
        "\n",
        "互いに独立な、事象 $ X = x $ と 事象 $ Y = y $ が同時に発生する場合、それぞれの確立を積の法則でかけて、\n",
        "\n",
        "$$\n",
        "P(X = x, Y = y) = P(X = x) P(Y = y) \\\\\n",
        "= P(Y = y, X = x)\n",
        "$$\n"
      ]
    },
    {
      "cell_type": "markdown",
      "metadata": {
        "id": "Yw3n_lSY1bC5"
      },
      "source": [
        "## ベイズ測\n",
        "\n",
        "<!-- 条件付き確率は、以下の様に、ベイズ測で計算できる。 -->\n",
        "\n",
        "$$\n",
        "P ( X = x \\mid Y = y ) P ( Y = y )\n",
        "=\n",
        "P ( Y = y \\mid X = x ) P ( X = x )\n",
        "$$\n",
        "\n",
        "- NOTE: [ベイズの定理の基本的な解説 | 高校数学の美しい物語](https://manabitimes.jp/math/804)<br>\n",
        "> $ P(X), P(X \\mid Y), P(Y), P(X \\mid Y) $ のうち 3 つが分かれば残りの1つが分かります\n"
      ]
    },
    {
      "cell_type": "markdown",
      "metadata": {
        "id": "B8rZsL7EEJu_"
      },
      "source": [
        "上記より、例えば、条件付き確率 $ P ( Y = y \\mid X = x ) $ を求める場合、\n",
        "\n",
        "$$\n",
        "P ( Y = y \\mid X = x )\n",
        "=\n",
        "\\frac{P(Y = y) P(X = x \\mid Y = y)}\n",
        "{P(X = x)}\n",
        "$$\n",
        "\n",
        "- NOTE: 講義資料 ( page. 43) の例では、\n",
        "$ X = x $ が「笑顔な」で、 $ Y = y $ が、「飴玉をもらっている」ということ。\n"
      ]
    },
    {
      "cell_type": "markdown",
      "metadata": {
        "id": "VMqt27at1dfH"
      },
      "source": [
        "## 確率変数と確率分布\n",
        "\n",
        "- 確率変数<br>\n",
        "事象と結びつけられた数値。<br>\n",
        "(コイントスの表の出た回数など、事象を表す値)\n",
        "\n",
        "- 確率分布<br>\n",
        "確率変数の事象が発生する確率の分布。<br>\n",
        "離散的であれば、確率変数と、事象の確立を表で示せる。\n"
      ]
    },
    {
      "cell_type": "markdown",
      "metadata": {
        "id": "0r_K2gM11iOI"
      },
      "source": [
        "## 期待値\n",
        "\n",
        "期待値の式は、以下の通り。\n",
        "\n",
        "離散的な場合、\n",
        "\n",
        "$$\n",
        "E(f) = \\sum_{k=1}^n\n",
        "P(X = x_k) f(X = x_k)\n",
        "$$\n",
        "\n",
        "連続的な場合、\n",
        "\n",
        "$$\n",
        "E(f) = \\int\n",
        "P(X = x_k) f(X = x_k)\n",
        "dx\n",
        "$$\n"
      ]
    },
    {
      "cell_type": "markdown",
      "metadata": {
        "id": "tRzgRqrT1klh"
      },
      "source": [
        "## 分散と共分散\n"
      ]
    },
    {
      "cell_type": "markdown",
      "metadata": {
        "id": "MnaQGPy21nDY"
      },
      "source": [
        "## 分散と標準偏差\n"
      ]
    },
    {
      "cell_type": "markdown",
      "metadata": {
        "id": "icnUjn1CJbTt"
      },
      "source": [
        "### 分散\n",
        "\n",
        "データの散らばり具合。\n",
        "\n",
        "$$\n",
        "Var(f)\n",
        "=\n",
        "E(\n",
        "  ( f_{(X = x)} - E(f))^2\n",
        ") \\\\\n",
        "= E( f_{(X = x)}^2 ) - (E(f))^2\n",
        "$$\n"
      ]
    },
    {
      "cell_type": "markdown",
      "metadata": {
        "id": "ivggPiQIKK3D"
      },
      "source": [
        "### 共分散\n",
        "\n",
        "2つのデータ系列の傾向で、正の値で類似の傾向を示し、負の値で逆の傾向 ( 例えば、一方が大きいとき、もう一方が逆に小さくなる ) を示す。\n",
        "\n",
        "$$\n",
        "Cov(f, g) = E(\n",
        "  (f_{(X = x)} - E(f))\n",
        "  (g_{(Y = y)} - E(g))\n",
        ") \\\\\n",
        "= E(fg) - E(f)E(g)\n",
        "$$\n"
      ]
    },
    {
      "cell_type": "markdown",
      "metadata": {
        "id": "Q4JABb-cLhwQ"
      },
      "source": [
        "## 分散と標準偏差\n",
        "\n",
        "分散は 2 乗してしまい、元のデータと単位が違ってしまう。\n",
        "( 例えば、 $ m $ : 距離が、 $ m^2 $ : 面積 になってしまう )\n",
        "\n",
        "なので、平方根を求めたものが、標準偏差。\n",
        "\n",
        "$$\n",
        "\\sigma = \\sqrt{\n",
        "  E(\n",
        "    ( f_{(X = x)} - E(f))^2\n",
        "  )\n",
        "}\n",
        "$$\n"
      ]
    },
    {
      "cell_type": "markdown",
      "metadata": {
        "id": "mxEsFZLM1pfO"
      },
      "source": [
        "## 様々な確率分布\n",
        "\n",
        "モデルによって、確率分布を使い分ける。代表的な確率分布は以下の通り。\n"
      ]
    },
    {
      "cell_type": "markdown",
      "metadata": {
        "id": "bHpzVM0N1un3"
      },
      "source": [
        "### ベルヌーイ分布\n",
        "\n",
        "コイントス ( 表か、裏か? の 2通り ) 。\n",
        "\n",
        "$$\n",
        "P(x \\mid \\mu) = \\mu^x ( 1 - \\mu)^{1 - x}\n",
        "$$\n"
      ]
    },
    {
      "cell_type": "markdown",
      "metadata": {
        "id": "p7-llXMa1xOu"
      },
      "source": [
        "### マルチヌーイ ( カテゴリカル ) 分布\n",
        "\n",
        "さいころをふる。 ( 出る目が確率変数 )\n"
      ]
    },
    {
      "cell_type": "markdown",
      "metadata": {
        "id": "iWpNX64a11g7"
      },
      "source": [
        "### 二項分布\n",
        "\n",
        "コイントス。( 表が $ x $ 回出る場合 )\n",
        "\n",
        "$$\n",
        "P(x \\mid \\lambda, n)\n",
        "=\n",
        "\\frac{n!}\n",
        "{x! (n -x)!}\n",
        "\\lambda^x ( 1 - \\lambda)^{n - x}\n",
        "$$\n"
      ]
    },
    {
      "cell_type": "markdown",
      "metadata": {
        "id": "_PkAJfdN13qL"
      },
      "source": [
        "### ガウス分布\n",
        "\n",
        "正規分布。\n",
        "\n",
        "$$\n",
        "N(x; \\mu, \\sigma^2)\n",
        "=\n",
        "\\sqrt{\n",
        "  \\frac{1}{2 \\pi \\sigma^2}\n",
        "}\n",
        "\\exp(\n",
        "  -\\frac{1}\n",
        "  {2 \\sigma^2} (x - \\mu)^2\n",
        ")\n",
        "$$\n"
      ]
    }
  ]
}